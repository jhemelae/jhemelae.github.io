{
 "cells": [
  {
   "cell_type": "code",
   "execution_count": 1,
   "metadata": {},
   "outputs": [],
   "source": [
    "from itertools import product\n",
    "\n",
    "\n",
    "# Source and target are part of the data of a morphism\n",
    "# Different morphisms should have different names, except 'identity' morphisms\n",
    "class Morphism:\n",
    "    def __init__(self, name, source, target):\n",
    "        self.name = name         # name: each morphism should have \n",
    "                                 # a different name (a string)\n",
    "                                 # except identity morphisms that are all called '1'\n",
    "        self.source = source     # string representing source object\n",
    "        self.target = target     # string representing target object\n",
    "\n",
    "# Identity morphisms are all called '1'\n",
    "def not_identity(morphism):\n",
    "    return morphism.name != '1'\n",
    "\n",
    "\n",
    "class Category:\n",
    "    def __init__(self, objects, morphisms,composition):\n",
    "        self.objects = objects       # list of strings giving the objects \n",
    "        self.morphisms = morphisms   # list of the non-identity Morphisms's\n",
    "        for C in objects:   \n",
    "            identity = Morphism('1',C,C)\n",
    "            self.morphisms.append(identity) # Add identity Morphism's \n",
    "                                            # for each object.\n",
    "            \n",
    "        self.composition = composition      # Composition is a dictionary:\n",
    "                                            # key = pair of Morphism names, \n",
    "                                            # value = name of composition.\n",
    "        \n",
    "        for rho in morphisms:               # Add composition for identity morphisms\n",
    "            r = rho.name\n",
    "            self.composition[(r,'1')] = r\n",
    "            self.composition[('1',r)] = r\n",
    "            \n",
    "\n",
    "# Mathematical functions will be represented by python dictionaries.\n",
    "# If these functions appear as sections of a presheaf, then they need a name.\n",
    "# So we will define a class \"Named Dictionary\".\n",
    "class Named_Dictionary:                         \n",
    "    def __init__(self,dictionary):              \n",
    "        self.dictionary = dictionary            \n",
    "        self.name = str(dictionary)             \n",
    "    def __hash__(self):   # to use a mathematical function as key for a dictionary\n",
    "        return hash(self.name)\n",
    "    def __getitem__(self,item):     # function application\n",
    "        return self.dictionary[item]\n",
    "            \n",
    "# for lists X and Y, hom(X,Y) returns a list of functions from X to Y\n",
    "# as dictionaries\n",
    "def hom(X,Y):\n",
    "    return [dict(zip(X,y)) for y in product(Y,repeat=len(X))]\n",
    "\n",
    "# F,G are presheaves on a Category cat, each represented by a dictionary, with\n",
    "# key = name of the object, value = list of sections \n",
    "# (e.g. strings or Named_Dictionaries)\n",
    "# OR key = name of morphism in cat, \n",
    "# value = dictionary representing the restriction map.\n",
    "# f is a function from F to G, represented by a dictionary, with\n",
    "# key = name of the object (say 'C'), value = function from F['C'] to G['C'].\n",
    "def is_morphism(f,F,G,cat):\n",
    "    cat_nontriv_morph = [f for f in cat.morphisms if not_identity(f)]\n",
    "    for rho in cat_nontriv_morph:\n",
    "        D = rho.source\n",
    "        C = rho.target\n",
    "        r = rho.name\n",
    "        f_C = f[C]\n",
    "        f_D = f[D]\n",
    "        for s in F[C]:\n",
    "            if f_D[F[r][s]] != G[r][f_C[s]]:\n",
    "                return False\n",
    "    return True\n",
    "\n",
    "# F,G are presheaves on Category cat.\n",
    "# Hom_PSh(F,G,cat) gives a list of morphisms from F to G.\n",
    "# Each morphism is represented as a dictionary, with\n",
    "# key = name of the object (say 'C'), value = function from F['C'] to G['C'].\n",
    "def Hom_PSh(F,G,cat):\n",
    "    HOM = {}\n",
    "    for C in cat.objects:\n",
    "        HOM[C] = hom(F[C],G[C])\n",
    "    keys, values = zip(*HOM.items())\n",
    "    maps = [dict(zip(keys, v)) for v in product(*values)]\n",
    "    psh_morphisms = [f for f in maps if is_morphism(f,F,G,cat)]\n",
    "    return psh_morphisms\n",
    "\n",
    "# F,G are presheaves on Category cat.\n",
    "# Product_PSh(F,G,cat) gives the product presheaf of F and G.\n",
    "# Sections of the product presheaf are named (a,b), \n",
    "# with a and b the name of a section in F resp. G.\n",
    "def Product_PSh(F,G,cat):\n",
    "    FxG = {}\n",
    "    for C in cat.objects:\n",
    "        FxG[C] = list(product(F[C],G[C]))\n",
    "    for rho in filter(not_identity, cat.morphisms):\n",
    "        r = rho.name\n",
    "        C = rho.target\n",
    "        FxG[r] = {}\n",
    "        for a,b in product(F[C],G[C]):\n",
    "            FxG[r][(a,b)] = (F[r][a],G[r][b])\n",
    "    return FxG\n",
    "\n",
    "# Sum_PSh(F,G,cat) gives the coproduct presheaf of F and G \n",
    "# (both presheaves on Category cat).\n",
    "# The name of the section is the same as the name \n",
    "# of the corresponding section in F or G.\n",
    "def Sum_PSh(F,G,cat):\n",
    "    sum_psh = {}\n",
    "    for C in cat.objects:\n",
    "        sum_psh[C] = F[C]+G[C]\n",
    "    for rho in filter(not_identity, cat.morphisms):\n",
    "        r = rho.name\n",
    "        sum_psh[r] = {}\n",
    "        for s in F[C]:\n",
    "            sum_psh[r][s] = F[r][s]\n",
    "        for s in G[C]:\n",
    "            sum_psh[r][s] = G[r][s]\n",
    "    return sum_psh\n",
    "\n",
    "# Terminal(cat) returns the terminal presheaf on the Category cat.\n",
    "def Terminal(cat):\n",
    "    terminal = {}\n",
    "    for C in cat.objects:\n",
    "        terminal[C] = ['*']\n",
    "    for rho in filter(not_identity, cat.morphisms):\n",
    "        r = rho.name\n",
    "        terminal[r] = {}\n",
    "        terminal[r]['*'] = '*'\n",
    "    return terminal\n",
    "\n",
    "# Yoneda(C,cat) returns the representable presheaf represented \n",
    "# by the object C of the Category cat\n",
    "def Yoneda(C,cat):\n",
    "    yC = {}\n",
    "    for D in cat.objects:\n",
    "        yC[D] = [f.name for f in cat.morphisms if f.source == D and f.target == C]\n",
    "    for rho in filter(not_identity,cat.morphisms):\n",
    "        r = rho.name\n",
    "        D = rho.target\n",
    "        comp = cat.composition\n",
    "        yC[r] = {}\n",
    "        for f in yC[D]:\n",
    "            yC[r][f] = comp[(f,r)]\n",
    "    return yC\n",
    "\n",
    "# Internal_Hom(F,G,cat) returns a the internal Hom from F to G\n",
    "# in the topos of presheaves on Category cat.\n",
    "# Sections are represented by Named_Dictionary's.\n",
    "def Internal_Hom(F,G,cat):\n",
    "    H = {}\n",
    "    for C in cat.objects:\n",
    "        yC = Yoneda(C,cat)\n",
    "        yCxF = Product_PSh(yC,F,cat)\n",
    "        H[C] = [Named_Dictionary(f) for f in Hom_PSh(yCxF,G,cat)]\n",
    "    for rho in filter(not_identity,cat.morphisms):\n",
    "        r = rho.name\n",
    "        C = rho.target\n",
    "        D = rho.source\n",
    "        yC = Yoneda(C,cat)\n",
    "        yD = Yoneda(D,cat)\n",
    "        yCxF = Product_PSh(yC,F,cat)\n",
    "        yDxF = Product_PSh(yD,F,cat)\n",
    "        H[r] = {}\n",
    "        # s is a Named_Dictionary. \n",
    "        # s.dictionary has as key an object E of cat, and\n",
    "        # as value a dictionary going from elements \n",
    "        # of yCxF[E] to elements of G[E]\n",
    "        for s in H[C]:\n",
    "            restr_s = {}\n",
    "            for E in s.dictionary.keys():\n",
    "                restr_s[E] = {}\n",
    "                for a,x in yDxF[E]:\n",
    "                    b = cat.composition[(r,a)]\n",
    "                    restr_s[E][(a,x)] = s.dictionary[E][(b,x)]\n",
    "            H[r][s]=Named_Dictionary(restr_s)\n",
    "    return H  \n",
    "            \n",
    "# inverse_image(F,phi,Ccal,Dcal) returns the inverse image of F along f,\n",
    "# where f is the geometric morphism f : PSh(Ccal) --> PSh(Dcal)\n",
    "# induced by a functor phi : Ccal --> Dcal.\n",
    "# The functor phi is given by a dictionary, with \n",
    "# key = object/morphism of Ccal, value = corresponding object/morphism of Dcal\n",
    "def inverse_image(F,phi,Ccal,Dcal):\n",
    "    phi_star_F = {}   # F is sheaf on Dcal, phi_star_F is sheaf on Ccal\n",
    "    for C in Ccal.objects:\n",
    "        phi_star_F[C] = F[phi[C]]\n",
    "    for rho in filter(not_identity,Ccal.morphisms):\n",
    "        r = rho.name\n",
    "        phi_star_F[r] = F[phi[r]]\n",
    "    return phi_star_F"
   ]
  },
  {
   "cell_type": "code",
   "execution_count": 2,
   "metadata": {},
   "outputs": [],
   "source": [
    "# Example 1: directed graphs as presheaves.\n",
    "\n",
    "V = 'V'\n",
    "E = 'E'\n",
    "\n",
    "source = Morphism('source',V,E)\n",
    "target = Morphism('target',V,E)\n",
    "\n",
    "Ccal = Category([V,E],[source,target],{})\n",
    "\n",
    "F = {}\n",
    "F[V] = ['a','b']\n",
    "F[E] = ['alpha']\n",
    "F[source.name] = { 'alpha' : 'a' }\n",
    "F[target.name] = { 'alpha' : 'a' }\n",
    "    \n",
    "G = {}\n",
    "G[V] = ['x','y']\n",
    "G[E] = ['beta']\n",
    "G[source.name] = { 'beta' : 'x' }\n",
    "G[target.name] = { 'beta' : 'y'}"
   ]
  },
  {
   "cell_type": "code",
   "execution_count": 3,
   "metadata": {},
   "outputs": [
    {
     "data": {
      "text/plain": [
       "[{'V': {'x': 'a', 'y': 'a'}, 'E': {'beta': 'alpha'}}]"
      ]
     },
     "execution_count": 3,
     "metadata": {},
     "output_type": "execute_result"
    }
   ],
   "source": [
    "Hom_PSh(G,F,Ccal)"
   ]
  },
  {
   "cell_type": "code",
   "execution_count": 4,
   "metadata": {},
   "outputs": [
    {
     "data": {
      "text/plain": [
       "{'V': [('a', 'x'), ('a', 'y'), ('b', 'x'), ('b', 'y')],\n",
       " 'E': [('alpha', 'beta')],\n",
       " 'source': {('alpha', 'beta'): ('a', 'x')},\n",
       " 'target': {('alpha', 'beta'): ('a', 'y')}}"
      ]
     },
     "execution_count": 4,
     "metadata": {},
     "output_type": "execute_result"
    }
   ],
   "source": [
    "FxG = Product_PSh(F,G,Ccal)\n",
    "FxG"
   ]
  },
  {
   "cell_type": "code",
   "execution_count": 5,
   "metadata": {},
   "outputs": [
    {
     "data": {
      "text/plain": [
       "4"
      ]
     },
     "execution_count": 5,
     "metadata": {},
     "output_type": "execute_result"
    }
   ],
   "source": [
    "len(Hom_PSh(FxG,G,Ccal))"
   ]
  },
  {
   "cell_type": "code",
   "execution_count": 6,
   "metadata": {},
   "outputs": [
    {
     "name": "stdout",
     "output_type": "stream",
     "text": [
      "{'V': ['1'], 'E': [], 'source': {}, 'target': {}}\n",
      "{'V': ['source', 'target'], 'E': ['1'], 'source': {'1': 'source'}, 'target': {'1': 'target'}}\n",
      "{'V': ['*'], 'E': ['*'], 'source': {'*': '*'}, 'target': {'*': '*'}}\n"
     ]
    }
   ],
   "source": [
    "yV = Yoneda('V',Ccal)\n",
    "print(yV)\n",
    "yE = Yoneda('E',Ccal)\n",
    "print(yE)\n",
    "terminal = Terminal(Ccal)\n",
    "print(terminal)"
   ]
  },
  {
   "cell_type": "code",
   "execution_count": 7,
   "metadata": {},
   "outputs": [
    {
     "name": "stdout",
     "output_type": "stream",
     "text": [
      "V : 4\n",
      "E : 4\n"
     ]
    }
   ],
   "source": [
    "H = Internal_Hom(F,G,Ccal)\n",
    "for C in Ccal.objects:\n",
    "    print(C, \":\",len(H[C]))"
   ]
  },
  {
   "cell_type": "code",
   "execution_count": 8,
   "metadata": {},
   "outputs": [],
   "source": [
    "# Example 2 : reflexive directed graphs as presheaves\n",
    "\n",
    "M = 'M'\n",
    "\n",
    "source = Morphism('source',M,M)\n",
    "target = Morphism('target',M,M)\n",
    "\n",
    "composition_in_M = {}\n",
    "composition_in_M['source','source'] = 'source'\n",
    "composition_in_M['source','target'] = 'source'\n",
    "composition_in_M['target','source'] = 'target'\n",
    "composition_in_M['target','target'] = 'target'\n",
    "\n",
    "Dcal = Category([M],[source,target],composition_in_M)\n",
    "\n",
    "\n",
    "# define functor phi : Ccal to Dcal\n",
    "phi = {}\n",
    "phi[V] = M\n",
    "phi[E] = M\n",
    "phi['source'] = 'source'\n",
    "phi['target'] = 'target'"
   ]
  },
  {
   "cell_type": "code",
   "execution_count": 9,
   "metadata": {},
   "outputs": [
    {
     "data": {
      "text/plain": [
       "{'M': ['source', 'target', '1'],\n",
       " 'source': {'source': 'source', 'target': 'target', '1': 'source'},\n",
       " 'target': {'source': 'source', 'target': 'target', '1': 'target'}}"
      ]
     },
     "execution_count": 9,
     "metadata": {},
     "output_type": "execute_result"
    }
   ],
   "source": [
    "yM = Yoneda(M,Dcal)\n",
    "yM"
   ]
  },
  {
   "cell_type": "code",
   "execution_count": 10,
   "metadata": {},
   "outputs": [
    {
     "data": {
      "text/plain": [
       "{'V': ['source', 'target', '1'],\n",
       " 'E': ['source', 'target', '1'],\n",
       " 'source': {'source': 'source', 'target': 'target', '1': 'source'},\n",
       " 'target': {'source': 'source', 'target': 'target', '1': 'target'}}"
      ]
     },
     "execution_count": 10,
     "metadata": {},
     "output_type": "execute_result"
    }
   ],
   "source": [
    "inverse_image(yM,phi,Ccal,Dcal)"
   ]
  }
 ],
 "metadata": {
  "kernelspec": {
   "display_name": "Python 3",
   "language": "python",
   "name": "python3"
  },
  "language_info": {
   "codemirror_mode": {
    "name": "ipython",
    "version": 3
   },
   "file_extension": ".py",
   "mimetype": "text/x-python",
   "name": "python",
   "nbconvert_exporter": "python",
   "pygments_lexer": "ipython3",
   "version": "3.7.4"
  }
 },
 "nbformat": 4,
 "nbformat_minor": 2
}
